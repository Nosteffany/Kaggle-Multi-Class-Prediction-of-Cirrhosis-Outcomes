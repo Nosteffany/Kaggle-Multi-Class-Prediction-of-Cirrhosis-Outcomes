{
 "cells": [
  {
   "cell_type": "code",
   "execution_count": 1,
   "id": "a8921a84",
   "metadata": {
    "_cell_guid": "b1076dfc-b9ad-4769-8c92-a6c4dae69d19",
    "_uuid": "8f2839f25d086af736a60e9eeb907d3b93b6e0e5",
    "execution": {
     "iopub.execute_input": "2024-01-16T12:44:20.548037Z",
     "iopub.status.busy": "2024-01-16T12:44:20.547393Z",
     "iopub.status.idle": "2024-01-16T12:44:21.259987Z",
     "shell.execute_reply": "2024-01-16T12:44:21.258819Z"
    },
    "papermill": {
     "duration": 0.722725,
     "end_time": "2024-01-16T12:44:21.262002",
     "exception": false,
     "start_time": "2024-01-16T12:44:20.539277",
     "status": "completed"
    },
    "tags": []
   },
   "outputs": [
    {
     "name": "stdout",
     "output_type": "stream",
     "text": [
      "/kaggle/input/playground-series-s3e26/sample_submission.csv\n",
      "/kaggle/input/playground-series-s3e26/train.csv\n",
      "/kaggle/input/playground-series-s3e26/test.csv\n"
     ]
    }
   ],
   "source": [
    "# This Python 3 environment comes with many helpful analytics libraries installed\n",
    "# It is defined by the kaggle/python Docker image: https://github.com/kaggle/docker-python\n",
    "# For example, here's several helpful packages to load\n",
    "\n",
    "import numpy as np # linear algebra\n",
    "import pandas as pd # data processing, CSV file I/O (e.g. pd.read_csv)\n",
    "\n",
    "# Input data files are available in the read-only \"../input/\" directory\n",
    "# For example, running this (by clicking run or pressing Shift+Enter) will list all files under the input directory\n",
    "\n",
    "import os\n",
    "for dirname, _, filenames in os.walk('/kaggle/input'):\n",
    "    for filename in filenames:\n",
    "        print(os.path.join(dirname, filename))\n",
    "\n",
    "# You can write up to 20GB to the current directory (/kaggle/working/) that gets preserved as output when you create a version using \"Save & Run All\" \n",
    "# You can also write temporary files to /kaggle/temp/, but they won't be saved outside of the current session"
   ]
  },
  {
   "cell_type": "code",
   "execution_count": 2,
   "id": "9fbda2a9",
   "metadata": {
    "execution": {
     "iopub.execute_input": "2024-01-16T12:44:21.275733Z",
     "iopub.status.busy": "2024-01-16T12:44:21.275353Z",
     "iopub.status.idle": "2024-01-16T12:44:21.360219Z",
     "shell.execute_reply": "2024-01-16T12:44:21.359242Z"
    },
    "papermill": {
     "duration": 0.094197,
     "end_time": "2024-01-16T12:44:21.362559",
     "exception": false,
     "start_time": "2024-01-16T12:44:21.268362",
     "status": "completed"
    },
    "tags": []
   },
   "outputs": [],
   "source": [
    "train_df = pd.read_csv(\"/kaggle/input/playground-series-s3e26/train.csv\", index_col='id')\n",
    "test_df = pd.read_csv(\"/kaggle/input/playground-series-s3e26/test.csv\", index_col='id')"
   ]
  },
  {
   "cell_type": "code",
   "execution_count": 3,
   "id": "61c1802d",
   "metadata": {
    "execution": {
     "iopub.execute_input": "2024-01-16T12:44:21.376481Z",
     "iopub.status.busy": "2024-01-16T12:44:21.375750Z",
     "iopub.status.idle": "2024-01-16T12:44:23.819706Z",
     "shell.execute_reply": "2024-01-16T12:44:23.818936Z"
    },
    "papermill": {
     "duration": 2.453181,
     "end_time": "2024-01-16T12:44:23.822009",
     "exception": false,
     "start_time": "2024-01-16T12:44:21.368828",
     "status": "completed"
    },
    "tags": []
   },
   "outputs": [
    {
     "name": "stderr",
     "output_type": "stream",
     "text": [
      "/opt/conda/lib/python3.10/site-packages/scipy/__init__.py:146: UserWarning: A NumPy version >=1.16.5 and <1.23.0 is required for this version of SciPy (detected version 1.24.3\n",
      "  warnings.warn(f\"A NumPy version >={np_minversion} and <{np_maxversion}\"\n"
     ]
    }
   ],
   "source": [
    "import matplotlib.pyplot as plt\n",
    "import seaborn as sns\n",
    "\n",
    "from sklearn.model_selection import cross_val_score, StratifiedKFold, train_test_split\n",
    "from sklearn.preprocessing import PolynomialFeatures\n",
    "from sklearn.metrics import log_loss, make_scorer\n",
    "import xgboost as xgb\n",
    "import optuna"
   ]
  },
  {
   "cell_type": "code",
   "execution_count": 4,
   "id": "b935de66",
   "metadata": {
    "execution": {
     "iopub.execute_input": "2024-01-16T12:44:23.836087Z",
     "iopub.status.busy": "2024-01-16T12:44:23.835795Z",
     "iopub.status.idle": "2024-01-16T12:44:23.847485Z",
     "shell.execute_reply": "2024-01-16T12:44:23.846583Z"
    },
    "papermill": {
     "duration": 0.020985,
     "end_time": "2024-01-16T12:44:23.849498",
     "exception": false,
     "start_time": "2024-01-16T12:44:23.828513",
     "status": "completed"
    },
    "tags": []
   },
   "outputs": [],
   "source": [
    "def days_to_years(df, columns):\n",
    "    return df[columns].apply(lambda x: x / 365.25)\n",
    "\n",
    "\n",
    "def get_cv_score(X, y, params=None):    \n",
    "    if params:\n",
    "        estimator = xgb.XGBClassifier(**params)\n",
    "    else:\n",
    "        estimator = xgb.XGBClassifier(tree_method='hist', device='cuda')\n",
    "        \n",
    "    sampler = StratifiedKFold(n_splits=5)\n",
    "    scorer = make_scorer(log_loss, greater_is_better=True, needs_proba=True)\n",
    "    return cross_val_score(estimator, X, y, cv=sampler, scoring=scorer)\n",
    "\n",
    "\n",
    "def tuning_xgb(X, y):\n",
    "    \n",
    "    def objective(trial):\n",
    "        xgb_params = {\n",
    "            'tree_method':'hist',\n",
    "            'device': 'cuda',\n",
    "            'lambda': trial.suggest_float('lambda', 0.01, 10.0),\n",
    "            'alpha': trial.suggest_float('alpha', 0.01, 10.0),\n",
    "            \"n_estimators\": trial.suggest_int(\"n_estimators\", 100, 500),\n",
    "            \"max_depth\": trial.suggest_int(\"max_depth\", 3, 12),\n",
    "            \"min_child_weight\": trial.suggest_int(\"min_child_weight\", 0, 10),\n",
    "            \"learning_rate\": trial.suggest_float(\"learning_rate\", 0.001, 0.3),\n",
    "            \"subsample\": trial.suggest_float(\"subsample\", 0.1, 1, step=0.1),\n",
    "            \"colsample_bytree\": trial.suggest_float('colsample_bytree', 0.1, 1),\n",
    "#             \"reg_alpha\": trial.suggest_float('reg_alpha', 0, 1),\n",
    "        }\n",
    "        \n",
    "        scores = get_cv_score(X, y, params=xgb_params)\n",
    "        return scores.mean()\n",
    "        \n",
    "    study = optuna.create_study(direction='minimize')\n",
    "    study.optimize(objective, n_trials=100)\n",
    "    return study\n",
    "\n",
    "\n",
    "def make_submission(model, X):\n",
    "#     test_df[['N_Days', 'Age']] = days_to_years(test_df, ['N_Days', 'Age'])\n",
    "#     test_num_features = test_df.select_dtypes(np.number)\n",
    "#     test_cat_features = test_df.select_dtypes('object')\n",
    "\n",
    "#     encoded_features = pd.concat([test_num_features,\n",
    "#                                   pd.get_dummies(test_cat_features, dtype='int32')], axis=1)\n",
    "    y_pred = model.predict_proba(X)\n",
    "    y_pred = pd.DataFrame(y_pred)\n",
    "    y_pred.columns = ['Status_C', 'Status_CL','Status_D']\n",
    "\n",
    "    submission_df = pd.DataFrame()\n",
    "    submission_df = y_pred  \n",
    "    submission_df['id'] = X.index\n",
    "    submission_df['id'] = submission_df['id'].apply(lambda x : int(x))\n",
    "\n",
    "    submission_df.to_csv('submission.csv', index= False)"
   ]
  },
  {
   "cell_type": "markdown",
   "id": "77a6c8a3",
   "metadata": {
    "papermill": {
     "duration": 0.005987,
     "end_time": "2024-01-16T12:44:23.861557",
     "exception": false,
     "start_time": "2024-01-16T12:44:23.855570",
     "status": "completed"
    },
    "tags": []
   },
   "source": [
    "# Transform days to years"
   ]
  },
  {
   "cell_type": "code",
   "execution_count": 5,
   "id": "32f3a9e7",
   "metadata": {
    "execution": {
     "iopub.execute_input": "2024-01-16T12:44:23.875152Z",
     "iopub.status.busy": "2024-01-16T12:44:23.874577Z",
     "iopub.status.idle": "2024-01-16T12:44:23.885943Z",
     "shell.execute_reply": "2024-01-16T12:44:23.885162Z"
    },
    "papermill": {
     "duration": 0.020272,
     "end_time": "2024-01-16T12:44:23.887820",
     "exception": false,
     "start_time": "2024-01-16T12:44:23.867548",
     "status": "completed"
    },
    "tags": []
   },
   "outputs": [],
   "source": [
    "train_df[['N_Days', 'Age']] = days_to_years(train_df, ['N_Days', 'Age'])\n",
    "test_df[['N_Days', 'Age']] = days_to_years(test_df, ['N_Days', 'Age'])"
   ]
  },
  {
   "cell_type": "markdown",
   "id": "df285acc",
   "metadata": {
    "papermill": {
     "duration": 0.005972,
     "end_time": "2024-01-16T12:44:23.900287",
     "exception": false,
     "start_time": "2024-01-16T12:44:23.894315",
     "status": "completed"
    },
    "tags": []
   },
   "source": [
    "# Baseline model\n",
    "XGB + OHE"
   ]
  },
  {
   "cell_type": "code",
   "execution_count": 6,
   "id": "55d5212e",
   "metadata": {
    "execution": {
     "iopub.execute_input": "2024-01-16T12:44:23.913913Z",
     "iopub.status.busy": "2024-01-16T12:44:23.913571Z",
     "iopub.status.idle": "2024-01-16T12:44:26.928106Z",
     "shell.execute_reply": "2024-01-16T12:44:26.927009Z"
    },
    "jupyter": {
     "source_hidden": true
    },
    "papermill": {
     "duration": 3.024228,
     "end_time": "2024-01-16T12:44:26.930586",
     "exception": false,
     "start_time": "2024-01-16T12:44:23.906358",
     "status": "completed"
    },
    "tags": []
   },
   "outputs": [
    {
     "name": "stderr",
     "output_type": "stream",
     "text": [
      "/opt/conda/lib/python3.10/site-packages/xgboost/core.py:160: UserWarning: [12:44:24] WARNING: /workspace/src/common/error_msg.cc:58: Falling back to prediction using DMatrix due to mismatched devices. This might lead to higher memory usage and slower performance. XGBoost is running on: cuda:0, while the input data is on: cpu.\n",
      "Potential solutions:\n",
      "- Use a data structure that matches the device ordinal in the booster.\n",
      "- Set the device for booster before call to inplace_predict.\n",
      "\n",
      "This warning will only be shown once.\n",
      "\n",
      "  warnings.warn(smsg, UserWarning)\n"
     ]
    },
    {
     "data": {
      "text/plain": [
       "0.513896903684446"
      ]
     },
     "execution_count": 6,
     "metadata": {},
     "output_type": "execute_result"
    }
   ],
   "source": [
    "train_data = train_df.copy()\n",
    "train_labels = train_data['Status'].map({'C':0, 'CL':1, 'D':2})\n",
    "train_data.drop('Status', axis=1, inplace=True)\n",
    "\n",
    "train_num_cols = train_data.select_dtypes(np.number)\n",
    "train_cat_cols = train_data.select_dtypes('object')\n",
    "\n",
    "train_data = pd.concat([train_num_cols,\n",
    "                              pd.get_dummies(train_cat_cols, dtype='int32')], axis=1)\n",
    "\n",
    "\n",
    "get_cv_score(train_data, train_labels).mean()\n",
    "\n",
    "# tuned = tuning_xgb(train_data, train_labels)"
   ]
  },
  {
   "cell_type": "code",
   "execution_count": 7,
   "id": "b1ba9eef",
   "metadata": {
    "execution": {
     "iopub.execute_input": "2024-01-16T12:44:26.945249Z",
     "iopub.status.busy": "2024-01-16T12:44:26.944939Z",
     "iopub.status.idle": "2024-01-16T12:44:26.950109Z",
     "shell.execute_reply": "2024-01-16T12:44:26.949330Z"
    },
    "papermill": {
     "duration": 0.014453,
     "end_time": "2024-01-16T12:44:26.951953",
     "exception": false,
     "start_time": "2024-01-16T12:44:26.937500",
     "status": "completed"
    },
    "tags": []
   },
   "outputs": [],
   "source": [
    "# tuned.best_params\n",
    "p = {'lambda': 8.366432100590675,\n",
    " 'alpha': 0.012595143782964113,\n",
    " 'n_estimators': 456,\n",
    " 'max_depth': 11,\n",
    " 'min_child_weight': 1,\n",
    " 'learning_rate': 0.057251606328022064,\n",
    " 'subsample': 0.8,\n",
    " 'colsample_bytree': 0.11768228992035056}\n",
    "\n",
    "# get_cv_score(train_data, train_labels, p).mean()\n",
    "\n",
    "# {'lambda': 1.9621386829408207,\n",
    "#  'alpha': 2.705285419018762,\n",
    "#  'max_depth': 12,\n",
    "#  'min_child_weight': 0,\n",
    "#  'learning_rate': 0.2344680688504997,\n",
    "#  'subsample': 0.9,\n",
    "#  'colsample_bytree': 0.13499510903584383}"
   ]
  },
  {
   "cell_type": "code",
   "execution_count": 8,
   "id": "1592122a",
   "metadata": {
    "execution": {
     "iopub.execute_input": "2024-01-16T12:44:26.965710Z",
     "iopub.status.busy": "2024-01-16T12:44:26.965420Z",
     "iopub.status.idle": "2024-01-16T12:44:29.167767Z",
     "shell.execute_reply": "2024-01-16T12:44:29.166858Z"
    },
    "jupyter": {
     "source_hidden": true
    },
    "papermill": {
     "duration": 2.211609,
     "end_time": "2024-01-16T12:44:29.169925",
     "exception": false,
     "start_time": "2024-01-16T12:44:26.958316",
     "status": "completed"
    },
    "tags": []
   },
   "outputs": [
    {
     "data": {
      "text/html": [
       "<style>#sk-container-id-1 {color: black;background-color: white;}#sk-container-id-1 pre{padding: 0;}#sk-container-id-1 div.sk-toggleable {background-color: white;}#sk-container-id-1 label.sk-toggleable__label {cursor: pointer;display: block;width: 100%;margin-bottom: 0;padding: 0.3em;box-sizing: border-box;text-align: center;}#sk-container-id-1 label.sk-toggleable__label-arrow:before {content: \"▸\";float: left;margin-right: 0.25em;color: #696969;}#sk-container-id-1 label.sk-toggleable__label-arrow:hover:before {color: black;}#sk-container-id-1 div.sk-estimator:hover label.sk-toggleable__label-arrow:before {color: black;}#sk-container-id-1 div.sk-toggleable__content {max-height: 0;max-width: 0;overflow: hidden;text-align: left;background-color: #f0f8ff;}#sk-container-id-1 div.sk-toggleable__content pre {margin: 0.2em;color: black;border-radius: 0.25em;background-color: #f0f8ff;}#sk-container-id-1 input.sk-toggleable__control:checked~div.sk-toggleable__content {max-height: 200px;max-width: 100%;overflow: auto;}#sk-container-id-1 input.sk-toggleable__control:checked~label.sk-toggleable__label-arrow:before {content: \"▾\";}#sk-container-id-1 div.sk-estimator input.sk-toggleable__control:checked~label.sk-toggleable__label {background-color: #d4ebff;}#sk-container-id-1 div.sk-label input.sk-toggleable__control:checked~label.sk-toggleable__label {background-color: #d4ebff;}#sk-container-id-1 input.sk-hidden--visually {border: 0;clip: rect(1px 1px 1px 1px);clip: rect(1px, 1px, 1px, 1px);height: 1px;margin: -1px;overflow: hidden;padding: 0;position: absolute;width: 1px;}#sk-container-id-1 div.sk-estimator {font-family: monospace;background-color: #f0f8ff;border: 1px dotted black;border-radius: 0.25em;box-sizing: border-box;margin-bottom: 0.5em;}#sk-container-id-1 div.sk-estimator:hover {background-color: #d4ebff;}#sk-container-id-1 div.sk-parallel-item::after {content: \"\";width: 100%;border-bottom: 1px solid gray;flex-grow: 1;}#sk-container-id-1 div.sk-label:hover label.sk-toggleable__label {background-color: #d4ebff;}#sk-container-id-1 div.sk-serial::before {content: \"\";position: absolute;border-left: 1px solid gray;box-sizing: border-box;top: 0;bottom: 0;left: 50%;z-index: 0;}#sk-container-id-1 div.sk-serial {display: flex;flex-direction: column;align-items: center;background-color: white;padding-right: 0.2em;padding-left: 0.2em;position: relative;}#sk-container-id-1 div.sk-item {position: relative;z-index: 1;}#sk-container-id-1 div.sk-parallel {display: flex;align-items: stretch;justify-content: center;background-color: white;position: relative;}#sk-container-id-1 div.sk-item::before, #sk-container-id-1 div.sk-parallel-item::before {content: \"\";position: absolute;border-left: 1px solid gray;box-sizing: border-box;top: 0;bottom: 0;left: 50%;z-index: -1;}#sk-container-id-1 div.sk-parallel-item {display: flex;flex-direction: column;z-index: 1;position: relative;background-color: white;}#sk-container-id-1 div.sk-parallel-item:first-child::after {align-self: flex-end;width: 50%;}#sk-container-id-1 div.sk-parallel-item:last-child::after {align-self: flex-start;width: 50%;}#sk-container-id-1 div.sk-parallel-item:only-child::after {width: 0;}#sk-container-id-1 div.sk-dashed-wrapped {border: 1px dashed gray;margin: 0 0.4em 0.5em 0.4em;box-sizing: border-box;padding-bottom: 0.4em;background-color: white;}#sk-container-id-1 div.sk-label label {font-family: monospace;font-weight: bold;display: inline-block;line-height: 1.2em;}#sk-container-id-1 div.sk-label-container {text-align: center;}#sk-container-id-1 div.sk-container {/* jupyter's `normalize.less` sets `[hidden] { display: none; }` but bootstrap.min.css set `[hidden] { display: none !important; }` so we also need the `!important` here to be able to override the default hidden behavior on the sphinx rendered scikit-learn.org. See: https://github.com/scikit-learn/scikit-learn/issues/21755 */display: inline-block !important;position: relative;}#sk-container-id-1 div.sk-text-repr-fallback {display: none;}</style><div id=\"sk-container-id-1\" class=\"sk-top-container\"><div class=\"sk-text-repr-fallback\"><pre>XGBClassifier(alpha=0.012595143782964113, base_score=None, booster=None,\n",
       "              callbacks=None, colsample_bylevel=None, colsample_bynode=None,\n",
       "              colsample_bytree=0.11768228992035056, device=None,\n",
       "              early_stopping_rounds=None, enable_categorical=False,\n",
       "              eval_metric=None, feature_types=None, gamma=None,\n",
       "              grow_policy=None, importance_type=None,\n",
       "              interaction_constraints=None, lambda=8.366432100590675,\n",
       "              learning_rate=0.057251606328022064, max_bin=None,\n",
       "              max_cat_threshold=None, max_cat_to_onehot=None,\n",
       "              max_delta_step=None, max_depth=11, max_leaves=None,\n",
       "              min_child_weight=1, missing=nan, monotone_constraints=None,\n",
       "              multi_strategy=None, n_estimators=456, n_jobs=None, ...)</pre><b>In a Jupyter environment, please rerun this cell to show the HTML representation or trust the notebook. <br />On GitHub, the HTML representation is unable to render, please try loading this page with nbviewer.org.</b></div><div class=\"sk-container\" hidden><div class=\"sk-item\"><div class=\"sk-estimator sk-toggleable\"><input class=\"sk-toggleable__control sk-hidden--visually\" id=\"sk-estimator-id-1\" type=\"checkbox\" checked><label for=\"sk-estimator-id-1\" class=\"sk-toggleable__label sk-toggleable__label-arrow\">XGBClassifier</label><div class=\"sk-toggleable__content\"><pre>XGBClassifier(alpha=0.012595143782964113, base_score=None, booster=None,\n",
       "              callbacks=None, colsample_bylevel=None, colsample_bynode=None,\n",
       "              colsample_bytree=0.11768228992035056, device=None,\n",
       "              early_stopping_rounds=None, enable_categorical=False,\n",
       "              eval_metric=None, feature_types=None, gamma=None,\n",
       "              grow_policy=None, importance_type=None,\n",
       "              interaction_constraints=None, lambda=8.366432100590675,\n",
       "              learning_rate=0.057251606328022064, max_bin=None,\n",
       "              max_cat_threshold=None, max_cat_to_onehot=None,\n",
       "              max_delta_step=None, max_depth=11, max_leaves=None,\n",
       "              min_child_weight=1, missing=nan, monotone_constraints=None,\n",
       "              multi_strategy=None, n_estimators=456, n_jobs=None, ...)</pre></div></div></div></div></div>"
      ],
      "text/plain": [
       "XGBClassifier(alpha=0.012595143782964113, base_score=None, booster=None,\n",
       "              callbacks=None, colsample_bylevel=None, colsample_bynode=None,\n",
       "              colsample_bytree=0.11768228992035056, device=None,\n",
       "              early_stopping_rounds=None, enable_categorical=False,\n",
       "              eval_metric=None, feature_types=None, gamma=None,\n",
       "              grow_policy=None, importance_type=None,\n",
       "              interaction_constraints=None, lambda=8.366432100590675,\n",
       "              learning_rate=0.057251606328022064, max_bin=None,\n",
       "              max_cat_threshold=None, max_cat_to_onehot=None,\n",
       "              max_delta_step=None, max_depth=11, max_leaves=None,\n",
       "              min_child_weight=1, missing=nan, monotone_constraints=None,\n",
       "              multi_strategy=None, n_estimators=456, n_jobs=None, ...)"
      ]
     },
     "execution_count": 8,
     "metadata": {},
     "output_type": "execute_result"
    }
   ],
   "source": [
    "test_data = test_df.copy()\n",
    "\n",
    "test_num_cols = test_data.select_dtypes(np.number)\n",
    "test_cat_cols = test_data.select_dtypes('object')\n",
    "\n",
    "test_data = pd.concat([test_num_cols,\n",
    "                              pd.get_dummies(test_cat_cols, dtype='int32')], axis=1)\n",
    "\n",
    "model = xgb.XGBClassifier(**p)\n",
    "model.fit(train_data, train_labels)\n",
    "# make_submission(model, test_data)"
   ]
  },
  {
   "cell_type": "markdown",
   "id": "b5db7f9b",
   "metadata": {
    "papermill": {
     "duration": 0.006481,
     "end_time": "2024-01-16T12:44:29.183209",
     "exception": false,
     "start_time": "2024-01-16T12:44:29.176728",
     "status": "completed"
    },
    "tags": []
   },
   "source": [
    "# Outlier treatment model"
   ]
  },
  {
   "cell_type": "code",
   "execution_count": 9,
   "id": "41c499f5",
   "metadata": {
    "execution": {
     "iopub.execute_input": "2024-01-16T12:44:29.197847Z",
     "iopub.status.busy": "2024-01-16T12:44:29.197286Z",
     "iopub.status.idle": "2024-01-16T12:44:33.880838Z",
     "shell.execute_reply": "2024-01-16T12:44:33.879921Z"
    },
    "jupyter": {
     "source_hidden": true
    },
    "papermill": {
     "duration": 4.693814,
     "end_time": "2024-01-16T12:44:33.883538",
     "exception": false,
     "start_time": "2024-01-16T12:44:29.189724",
     "status": "completed"
    },
    "tags": []
   },
   "outputs": [
    {
     "name": "stderr",
     "output_type": "stream",
     "text": [
      "/tmp/ipykernel_26/1687095230.py:12: FutureWarning: Series.__getitem__ treating keys as positions is deprecated. In a future version, integer keys will always be treated as labels (consistent with DataFrame behavior). To access a value by position, use `ser.iloc[pos]`\n",
      "  if val_j >= upper_bounds[i]:\n",
      "/tmp/ipykernel_26/1687095230.py:13: FutureWarning: Series.__getitem__ treating keys as positions is deprecated. In a future version, integer keys will always be treated as labels (consistent with DataFrame behavior). To access a value by position, use `ser.iloc[pos]`\n",
      "  train_num_cols.iloc[j, i] = upper_bounds[i]\n"
     ]
    },
    {
     "data": {
      "text/plain": [
       "0.5230410225760522"
      ]
     },
     "execution_count": 9,
     "metadata": {},
     "output_type": "execute_result"
    }
   ],
   "source": [
    "train_data = train_df.copy()\n",
    "train_labels = train_data['Status'].map({'C':0, 'CL':1, 'D':2})\n",
    "train_data.drop('Status', axis=1, inplace=True)\n",
    "\n",
    "train_num_cols = train_data.select_dtypes(np.number)\n",
    "train_cat_cols = train_data.select_dtypes('object')\n",
    "\n",
    "upper_bounds = train_num_cols.quantile(0.99)\n",
    "\n",
    "for i, col in enumerate(train_num_cols):\n",
    "    for j, val_j in enumerate(train_num_cols[col]):\n",
    "        if val_j >= upper_bounds[i]:\n",
    "            train_num_cols.iloc[j, i] = upper_bounds[i]\n",
    "\n",
    "            \n",
    "train_data = pd.concat([train_num_cols, pd.get_dummies(train_cat_cols.iloc[:,:-1], dtype='int32')], axis=1)\n",
    "get_cv_score(train_data, train_labels).mean()"
   ]
  },
  {
   "cell_type": "markdown",
   "id": "85073ca1",
   "metadata": {
    "papermill": {
     "duration": 0.00711,
     "end_time": "2024-01-16T12:44:33.899460",
     "exception": false,
     "start_time": "2024-01-16T12:44:33.892350",
     "status": "completed"
    },
    "tags": []
   },
   "source": [
    "## Polynomial features model"
   ]
  },
  {
   "cell_type": "code",
   "execution_count": 10,
   "id": "f0eca78c",
   "metadata": {
    "execution": {
     "iopub.execute_input": "2024-01-16T12:44:33.915471Z",
     "iopub.status.busy": "2024-01-16T12:44:33.914823Z",
     "iopub.status.idle": "2024-01-16T12:44:37.493630Z",
     "shell.execute_reply": "2024-01-16T12:44:37.492760Z"
    },
    "jupyter": {
     "source_hidden": true
    },
    "papermill": {
     "duration": 3.588979,
     "end_time": "2024-01-16T12:44:37.495719",
     "exception": false,
     "start_time": "2024-01-16T12:44:33.906740",
     "status": "completed"
    },
    "tags": []
   },
   "outputs": [
    {
     "data": {
      "text/plain": [
       "0.5728935743930086"
      ]
     },
     "execution_count": 10,
     "metadata": {},
     "output_type": "execute_result"
    }
   ],
   "source": [
    "train_data = train_df.copy()\n",
    "train_labels = train_data['Status'].map({'C':0, 'CL':1, 'D':2})\n",
    "train_data.drop('Status', axis=1, inplace=True)\n",
    "\n",
    "train_num_cols = train_data.select_dtypes(np.number)\n",
    "train_cat_cols = train_data.select_dtypes('object')\n",
    "\n",
    "poly = PolynomialFeatures(degree=2, interaction_only=True, include_bias=False)\n",
    "data_poly = pd.DataFrame(poly.fit_transform(train_num_cols))\n",
    "\n",
    "train_data = pd.concat([data_poly, pd.get_dummies(train_cat_cols.iloc[:,:-1], dtype='int32')], axis=1)\n",
    "\n",
    "get_cv_score(train_data, train_labels).mean()"
   ]
  },
  {
   "cell_type": "markdown",
   "id": "c334e8a0",
   "metadata": {
    "papermill": {
     "duration": 0.006795,
     "end_time": "2024-01-16T12:44:37.509860",
     "exception": false,
     "start_time": "2024-01-16T12:44:37.503065",
     "status": "completed"
    },
    "tags": []
   },
   "source": [
    "## Features created model"
   ]
  },
  {
   "cell_type": "code",
   "execution_count": 11,
   "id": "a55b4ee8",
   "metadata": {
    "execution": {
     "iopub.execute_input": "2024-01-16T12:44:37.525902Z",
     "iopub.status.busy": "2024-01-16T12:44:37.525146Z",
     "iopub.status.idle": "2024-01-16T12:44:37.550067Z",
     "shell.execute_reply": "2024-01-16T12:44:37.549347Z"
    },
    "jupyter": {
     "source_hidden": true
    },
    "papermill": {
     "duration": 0.035334,
     "end_time": "2024-01-16T12:44:37.552066",
     "exception": false,
     "start_time": "2024-01-16T12:44:37.516732",
     "status": "completed"
    },
    "tags": []
   },
   "outputs": [],
   "source": [
    "train_data = train_df.copy()\n",
    "train_labels = train_data['Status'].map({'C':0, 'CL':1, 'D':2})\n",
    "train_data.drop('Status', axis=1, inplace=True)\n",
    "\n",
    "train_num_cols = train_data.select_dtypes(np.number)\n",
    "train_cat_cols = train_data.select_dtypes('object')\n",
    "\n",
    "train_data = pd.concat([train_num_cols,\n",
    "                              pd.get_dummies(train_cat_cols.iloc[:,:-1], dtype='int32')], axis=1)\n",
    "\n",
    "train_data['AgeOver60'] = (train_data['Age'] > 60).astype('int32')\n",
    "train_data['DaysOver5'] = (train_data['N_Days'] > 5).astype('int32')\n",
    "train_data['PlateletsOver250'] = (train_data['Platelets'] > 250).astype('int32')\n",
    "train_data['BilirubinOver5'] = (train_data['Bilirubin'] > 3).astype('int32')\n",
    "train_data['bico'] = train_data['Bilirubin'] + train_data['Copper']\n",
    "# train_data['bicho'] = train_data['Bilirubin'] + train_data['Cholesterol']\n",
    "\n",
    "\n",
    "# tuned = tuning_xgb(train_data, train_labels)"
   ]
  },
  {
   "cell_type": "code",
   "execution_count": 12,
   "id": "b5c33ef9",
   "metadata": {
    "collapsed": true,
    "execution": {
     "iopub.execute_input": "2024-01-16T12:44:37.567858Z",
     "iopub.status.busy": "2024-01-16T12:44:37.567587Z",
     "iopub.status.idle": "2024-01-16T12:44:38.797003Z",
     "shell.execute_reply": "2024-01-16T12:44:38.796127Z"
    },
    "jupyter": {
     "outputs_hidden": true,
     "source_hidden": true
    },
    "papermill": {
     "duration": 1.239464,
     "end_time": "2024-01-16T12:44:38.799097",
     "exception": false,
     "start_time": "2024-01-16T12:44:37.559633",
     "status": "completed"
    },
    "tags": []
   },
   "outputs": [
    {
     "name": "stdout",
     "output_type": "stream",
     "text": [
      "[0]\tvalidation_0-mlogloss:1.00431\tvalidation_1-mlogloss:1.00447\n",
      "[1]\tvalidation_0-mlogloss:0.90514\tvalidation_1-mlogloss:0.90676\n",
      "[2]\tvalidation_0-mlogloss:0.81842\tvalidation_1-mlogloss:0.82090\n",
      "[3]\tvalidation_0-mlogloss:0.74418\tvalidation_1-mlogloss:0.74827\n",
      "[4]\tvalidation_0-mlogloss:0.70010\tvalidation_1-mlogloss:0.70395\n",
      "[5]\tvalidation_0-mlogloss:0.66153\tvalidation_1-mlogloss:0.66465\n",
      "[6]\tvalidation_0-mlogloss:0.62615\tvalidation_1-mlogloss:0.62888\n",
      "[7]\tvalidation_0-mlogloss:0.60087\tvalidation_1-mlogloss:0.60432\n",
      "[8]\tvalidation_0-mlogloss:0.58155\tvalidation_1-mlogloss:0.58617\n",
      "[9]\tvalidation_0-mlogloss:0.56813\tvalidation_1-mlogloss:0.57201\n",
      "[10]\tvalidation_0-mlogloss:0.55556\tvalidation_1-mlogloss:0.55884\n",
      "[11]\tvalidation_0-mlogloss:0.54449\tvalidation_1-mlogloss:0.54809\n",
      "[12]\tvalidation_0-mlogloss:0.53244\tvalidation_1-mlogloss:0.53699\n",
      "[13]\tvalidation_0-mlogloss:0.52299\tvalidation_1-mlogloss:0.52805\n",
      "[14]\tvalidation_0-mlogloss:0.51473\tvalidation_1-mlogloss:0.52020\n",
      "[15]\tvalidation_0-mlogloss:0.50807\tvalidation_1-mlogloss:0.51392\n",
      "[16]\tvalidation_0-mlogloss:0.50414\tvalidation_1-mlogloss:0.51016\n",
      "[17]\tvalidation_0-mlogloss:0.50080\tvalidation_1-mlogloss:0.50713\n",
      "[18]\tvalidation_0-mlogloss:0.49745\tvalidation_1-mlogloss:0.50425\n",
      "[19]\tvalidation_0-mlogloss:0.49352\tvalidation_1-mlogloss:0.50107\n",
      "[20]\tvalidation_0-mlogloss:0.48725\tvalidation_1-mlogloss:0.49474\n",
      "[21]\tvalidation_0-mlogloss:0.48518\tvalidation_1-mlogloss:0.49330\n",
      "[22]\tvalidation_0-mlogloss:0.48335\tvalidation_1-mlogloss:0.49252\n",
      "[23]\tvalidation_0-mlogloss:0.48008\tvalidation_1-mlogloss:0.49003\n",
      "[24]\tvalidation_0-mlogloss:0.47627\tvalidation_1-mlogloss:0.48642\n",
      "[25]\tvalidation_0-mlogloss:0.47384\tvalidation_1-mlogloss:0.48412\n",
      "[26]\tvalidation_0-mlogloss:0.47111\tvalidation_1-mlogloss:0.48300\n",
      "[27]\tvalidation_0-mlogloss:0.46645\tvalidation_1-mlogloss:0.47935\n",
      "[28]\tvalidation_0-mlogloss:0.46359\tvalidation_1-mlogloss:0.47712\n",
      "[29]\tvalidation_0-mlogloss:0.46074\tvalidation_1-mlogloss:0.47494\n",
      "[30]\tvalidation_0-mlogloss:0.45842\tvalidation_1-mlogloss:0.47338\n",
      "[31]\tvalidation_0-mlogloss:0.45333\tvalidation_1-mlogloss:0.46913\n",
      "[32]\tvalidation_0-mlogloss:0.45185\tvalidation_1-mlogloss:0.46814\n",
      "[33]\tvalidation_0-mlogloss:0.45071\tvalidation_1-mlogloss:0.46765\n"
     ]
    },
    {
     "name": "stderr",
     "output_type": "stream",
     "text": [
      "/opt/conda/lib/python3.10/site-packages/xgboost/sklearn.py:885: UserWarning: `eval_metric` in `fit` method is deprecated for better compatibility with scikit-learn, use `eval_metric` in constructor or`set_params` instead.\n",
      "  warnings.warn(\n"
     ]
    },
    {
     "name": "stdout",
     "output_type": "stream",
     "text": [
      "[34]\tvalidation_0-mlogloss:0.44620\tvalidation_1-mlogloss:0.46408\n",
      "[35]\tvalidation_0-mlogloss:0.44459\tvalidation_1-mlogloss:0.46298\n",
      "[36]\tvalidation_0-mlogloss:0.44048\tvalidation_1-mlogloss:0.45975\n",
      "[37]\tvalidation_0-mlogloss:0.43678\tvalidation_1-mlogloss:0.45661\n",
      "[38]\tvalidation_0-mlogloss:0.43582\tvalidation_1-mlogloss:0.45607\n",
      "[39]\tvalidation_0-mlogloss:0.43365\tvalidation_1-mlogloss:0.45486\n",
      "[40]\tvalidation_0-mlogloss:0.43099\tvalidation_1-mlogloss:0.45265\n",
      "[41]\tvalidation_0-mlogloss:0.42881\tvalidation_1-mlogloss:0.45056\n",
      "[42]\tvalidation_0-mlogloss:0.42787\tvalidation_1-mlogloss:0.44972\n",
      "[43]\tvalidation_0-mlogloss:0.42733\tvalidation_1-mlogloss:0.44906\n",
      "[44]\tvalidation_0-mlogloss:0.42621\tvalidation_1-mlogloss:0.44818\n",
      "[45]\tvalidation_0-mlogloss:0.42553\tvalidation_1-mlogloss:0.44736\n",
      "[46]\tvalidation_0-mlogloss:0.42173\tvalidation_1-mlogloss:0.44542\n",
      "[47]\tvalidation_0-mlogloss:0.42143\tvalidation_1-mlogloss:0.44537\n",
      "[48]\tvalidation_0-mlogloss:0.42102\tvalidation_1-mlogloss:0.44542\n",
      "[49]\tvalidation_0-mlogloss:0.41990\tvalidation_1-mlogloss:0.44453\n",
      "[50]\tvalidation_0-mlogloss:0.41742\tvalidation_1-mlogloss:0.44301\n",
      "[51]\tvalidation_0-mlogloss:0.41515\tvalidation_1-mlogloss:0.44166\n",
      "[52]\tvalidation_0-mlogloss:0.41446\tvalidation_1-mlogloss:0.44126\n",
      "[53]\tvalidation_0-mlogloss:0.41208\tvalidation_1-mlogloss:0.43918\n",
      "[54]\tvalidation_0-mlogloss:0.41052\tvalidation_1-mlogloss:0.43835\n",
      "[55]\tvalidation_0-mlogloss:0.40937\tvalidation_1-mlogloss:0.43767\n",
      "[56]\tvalidation_0-mlogloss:0.40738\tvalidation_1-mlogloss:0.43633\n",
      "[57]\tvalidation_0-mlogloss:0.40652\tvalidation_1-mlogloss:0.43569\n",
      "[58]\tvalidation_0-mlogloss:0.40492\tvalidation_1-mlogloss:0.43444\n",
      "[59]\tvalidation_0-mlogloss:0.40370\tvalidation_1-mlogloss:0.43381\n",
      "[60]\tvalidation_0-mlogloss:0.40261\tvalidation_1-mlogloss:0.43358\n",
      "[61]\tvalidation_0-mlogloss:0.40109\tvalidation_1-mlogloss:0.43262\n",
      "[62]\tvalidation_0-mlogloss:0.40031\tvalidation_1-mlogloss:0.43199\n",
      "[63]\tvalidation_0-mlogloss:0.39939\tvalidation_1-mlogloss:0.43155\n",
      "[64]\tvalidation_0-mlogloss:0.39882\tvalidation_1-mlogloss:0.43121\n",
      "[65]\tvalidation_0-mlogloss:0.39829\tvalidation_1-mlogloss:0.43104\n",
      "[66]\tvalidation_0-mlogloss:0.39684\tvalidation_1-mlogloss:0.43043\n",
      "[67]\tvalidation_0-mlogloss:0.39623\tvalidation_1-mlogloss:0.43055\n",
      "[68]\tvalidation_0-mlogloss:0.39528\tvalidation_1-mlogloss:0.42989\n",
      "[69]\tvalidation_0-mlogloss:0.39354\tvalidation_1-mlogloss:0.42860\n",
      "[70]\tvalidation_0-mlogloss:0.39233\tvalidation_1-mlogloss:0.42767\n",
      "[71]\tvalidation_0-mlogloss:0.39177\tvalidation_1-mlogloss:0.42735\n",
      "[72]\tvalidation_0-mlogloss:0.39110\tvalidation_1-mlogloss:0.42708\n",
      "[73]\tvalidation_0-mlogloss:0.39020\tvalidation_1-mlogloss:0.42690\n",
      "[74]\tvalidation_0-mlogloss:0.38947\tvalidation_1-mlogloss:0.42646\n",
      "[75]\tvalidation_0-mlogloss:0.38852\tvalidation_1-mlogloss:0.42610\n",
      "[76]\tvalidation_0-mlogloss:0.38748\tvalidation_1-mlogloss:0.42525\n",
      "[77]\tvalidation_0-mlogloss:0.38696\tvalidation_1-mlogloss:0.42479\n",
      "[78]\tvalidation_0-mlogloss:0.38592\tvalidation_1-mlogloss:0.42421\n",
      "[79]\tvalidation_0-mlogloss:0.38573\tvalidation_1-mlogloss:0.42410\n",
      "[80]\tvalidation_0-mlogloss:0.38427\tvalidation_1-mlogloss:0.42357\n",
      "[81]\tvalidation_0-mlogloss:0.38386\tvalidation_1-mlogloss:0.42370\n",
      "[82]\tvalidation_0-mlogloss:0.38298\tvalidation_1-mlogloss:0.42338\n",
      "[83]\tvalidation_0-mlogloss:0.38266\tvalidation_1-mlogloss:0.42338\n",
      "[84]\tvalidation_0-mlogloss:0.38251\tvalidation_1-mlogloss:0.42340\n",
      "[85]\tvalidation_0-mlogloss:0.38220\tvalidation_1-mlogloss:0.42313\n",
      "[86]\tvalidation_0-mlogloss:0.38095\tvalidation_1-mlogloss:0.42265\n",
      "[87]\tvalidation_0-mlogloss:0.38064\tvalidation_1-mlogloss:0.42278\n",
      "[88]\tvalidation_0-mlogloss:0.37965\tvalidation_1-mlogloss:0.42285\n",
      "[89]\tvalidation_0-mlogloss:0.37861\tvalidation_1-mlogloss:0.42260\n",
      "[90]\tvalidation_0-mlogloss:0.37805\tvalidation_1-mlogloss:0.42268\n",
      "[91]\tvalidation_0-mlogloss:0.37713\tvalidation_1-mlogloss:0.42222\n",
      "[92]\tvalidation_0-mlogloss:0.37665\tvalidation_1-mlogloss:0.42198\n",
      "[93]\tvalidation_0-mlogloss:0.37595\tvalidation_1-mlogloss:0.42168\n",
      "[94]\tvalidation_0-mlogloss:0.37530\tvalidation_1-mlogloss:0.42128\n",
      "[95]\tvalidation_0-mlogloss:0.37480\tvalidation_1-mlogloss:0.42119\n",
      "[96]\tvalidation_0-mlogloss:0.37396\tvalidation_1-mlogloss:0.42047\n",
      "[97]\tvalidation_0-mlogloss:0.37374\tvalidation_1-mlogloss:0.42031\n",
      "[98]\tvalidation_0-mlogloss:0.37321\tvalidation_1-mlogloss:0.42005\n",
      "[99]\tvalidation_0-mlogloss:0.37273\tvalidation_1-mlogloss:0.41976\n",
      "[100]\tvalidation_0-mlogloss:0.37253\tvalidation_1-mlogloss:0.41980\n",
      "[101]\tvalidation_0-mlogloss:0.37167\tvalidation_1-mlogloss:0.42011\n",
      "[102]\tvalidation_0-mlogloss:0.37141\tvalidation_1-mlogloss:0.42020\n",
      "[103]\tvalidation_0-mlogloss:0.37138\tvalidation_1-mlogloss:0.42021\n",
      "[104]\tvalidation_0-mlogloss:0.37077\tvalidation_1-mlogloss:0.42005\n",
      "[105]\tvalidation_0-mlogloss:0.37004\tvalidation_1-mlogloss:0.41976\n",
      "[106]\tvalidation_0-mlogloss:0.36953\tvalidation_1-mlogloss:0.41965\n",
      "[107]\tvalidation_0-mlogloss:0.36906\tvalidation_1-mlogloss:0.41954\n",
      "[108]\tvalidation_0-mlogloss:0.36854\tvalidation_1-mlogloss:0.41970\n",
      "[109]\tvalidation_0-mlogloss:0.36797\tvalidation_1-mlogloss:0.41943\n",
      "[110]\tvalidation_0-mlogloss:0.36742\tvalidation_1-mlogloss:0.41920\n",
      "[111]\tvalidation_0-mlogloss:0.36673\tvalidation_1-mlogloss:0.41926\n",
      "[112]\tvalidation_0-mlogloss:0.36606\tvalidation_1-mlogloss:0.41912\n",
      "[113]\tvalidation_0-mlogloss:0.36503\tvalidation_1-mlogloss:0.41914\n",
      "[114]\tvalidation_0-mlogloss:0.36485\tvalidation_1-mlogloss:0.41903\n",
      "[115]\tvalidation_0-mlogloss:0.36452\tvalidation_1-mlogloss:0.41899\n",
      "[116]\tvalidation_0-mlogloss:0.36373\tvalidation_1-mlogloss:0.41892\n",
      "[117]\tvalidation_0-mlogloss:0.36330\tvalidation_1-mlogloss:0.41854\n",
      "[118]\tvalidation_0-mlogloss:0.36307\tvalidation_1-mlogloss:0.41859\n",
      "[119]\tvalidation_0-mlogloss:0.36224\tvalidation_1-mlogloss:0.41850\n",
      "[120]\tvalidation_0-mlogloss:0.36176\tvalidation_1-mlogloss:0.41873\n",
      "[121]\tvalidation_0-mlogloss:0.36142\tvalidation_1-mlogloss:0.41862\n",
      "[122]\tvalidation_0-mlogloss:0.36127\tvalidation_1-mlogloss:0.41847\n",
      "[123]\tvalidation_0-mlogloss:0.36105\tvalidation_1-mlogloss:0.41844\n",
      "[124]\tvalidation_0-mlogloss:0.36009\tvalidation_1-mlogloss:0.41828\n",
      "[125]\tvalidation_0-mlogloss:0.35929\tvalidation_1-mlogloss:0.41853\n",
      "[126]\tvalidation_0-mlogloss:0.35904\tvalidation_1-mlogloss:0.41837\n",
      "[127]\tvalidation_0-mlogloss:0.35838\tvalidation_1-mlogloss:0.41824\n",
      "[128]\tvalidation_0-mlogloss:0.35733\tvalidation_1-mlogloss:0.41830\n",
      "[129]\tvalidation_0-mlogloss:0.35669\tvalidation_1-mlogloss:0.41772\n",
      "[130]\tvalidation_0-mlogloss:0.35668\tvalidation_1-mlogloss:0.41770\n",
      "[131]\tvalidation_0-mlogloss:0.35563\tvalidation_1-mlogloss:0.41771\n",
      "[132]\tvalidation_0-mlogloss:0.35517\tvalidation_1-mlogloss:0.41770\n",
      "[133]\tvalidation_0-mlogloss:0.35483\tvalidation_1-mlogloss:0.41775\n",
      "[134]\tvalidation_0-mlogloss:0.35411\tvalidation_1-mlogloss:0.41786\n",
      "[135]\tvalidation_0-mlogloss:0.35328\tvalidation_1-mlogloss:0.41748\n",
      "[136]\tvalidation_0-mlogloss:0.35314\tvalidation_1-mlogloss:0.41724\n",
      "[137]\tvalidation_0-mlogloss:0.35196\tvalidation_1-mlogloss:0.41692\n",
      "[138]\tvalidation_0-mlogloss:0.35136\tvalidation_1-mlogloss:0.41712\n",
      "[139]\tvalidation_0-mlogloss:0.35074\tvalidation_1-mlogloss:0.41697\n",
      "[140]\tvalidation_0-mlogloss:0.34992\tvalidation_1-mlogloss:0.41701\n",
      "[141]\tvalidation_0-mlogloss:0.34918\tvalidation_1-mlogloss:0.41697\n",
      "[142]\tvalidation_0-mlogloss:0.34871\tvalidation_1-mlogloss:0.41692\n",
      "[143]\tvalidation_0-mlogloss:0.34853\tvalidation_1-mlogloss:0.41693\n",
      "[144]\tvalidation_0-mlogloss:0.34805\tvalidation_1-mlogloss:0.41719\n",
      "[145]\tvalidation_0-mlogloss:0.34792\tvalidation_1-mlogloss:0.41711\n",
      "[146]\tvalidation_0-mlogloss:0.34751\tvalidation_1-mlogloss:0.41683\n",
      "[147]\tvalidation_0-mlogloss:0.34728\tvalidation_1-mlogloss:0.41672\n",
      "[148]\tvalidation_0-mlogloss:0.34666\tvalidation_1-mlogloss:0.41644\n",
      "[149]\tvalidation_0-mlogloss:0.34591\tvalidation_1-mlogloss:0.41596\n",
      "[150]\tvalidation_0-mlogloss:0.34583\tvalidation_1-mlogloss:0.41612\n",
      "[151]\tvalidation_0-mlogloss:0.34554\tvalidation_1-mlogloss:0.41616\n",
      "[152]\tvalidation_0-mlogloss:0.34506\tvalidation_1-mlogloss:0.41597\n",
      "[153]\tvalidation_0-mlogloss:0.34473\tvalidation_1-mlogloss:0.41597\n",
      "[154]\tvalidation_0-mlogloss:0.34433\tvalidation_1-mlogloss:0.41589\n",
      "[155]\tvalidation_0-mlogloss:0.34350\tvalidation_1-mlogloss:0.41544\n",
      "[156]\tvalidation_0-mlogloss:0.34295\tvalidation_1-mlogloss:0.41541\n",
      "[157]\tvalidation_0-mlogloss:0.34249\tvalidation_1-mlogloss:0.41552\n",
      "[158]\tvalidation_0-mlogloss:0.34217\tvalidation_1-mlogloss:0.41548\n",
      "[159]\tvalidation_0-mlogloss:0.34170\tvalidation_1-mlogloss:0.41556\n",
      "[160]\tvalidation_0-mlogloss:0.34103\tvalidation_1-mlogloss:0.41553\n",
      "[161]\tvalidation_0-mlogloss:0.34004\tvalidation_1-mlogloss:0.41542\n",
      "[162]\tvalidation_0-mlogloss:0.33921\tvalidation_1-mlogloss:0.41524\n",
      "[163]\tvalidation_0-mlogloss:0.33896\tvalidation_1-mlogloss:0.41503\n",
      "[164]\tvalidation_0-mlogloss:0.33822\tvalidation_1-mlogloss:0.41456\n",
      "[165]\tvalidation_0-mlogloss:0.33804\tvalidation_1-mlogloss:0.41447\n",
      "[166]\tvalidation_0-mlogloss:0.33718\tvalidation_1-mlogloss:0.41443\n",
      "[167]\tvalidation_0-mlogloss:0.33679\tvalidation_1-mlogloss:0.41431\n",
      "[168]\tvalidation_0-mlogloss:0.33654\tvalidation_1-mlogloss:0.41433\n",
      "[169]\tvalidation_0-mlogloss:0.33604\tvalidation_1-mlogloss:0.41428\n",
      "[170]\tvalidation_0-mlogloss:0.33557\tvalidation_1-mlogloss:0.41414\n",
      "[171]\tvalidation_0-mlogloss:0.33523\tvalidation_1-mlogloss:0.41426\n",
      "[172]\tvalidation_0-mlogloss:0.33483\tvalidation_1-mlogloss:0.41453\n",
      "[173]\tvalidation_0-mlogloss:0.33439\tvalidation_1-mlogloss:0.41422\n",
      "[174]\tvalidation_0-mlogloss:0.33398\tvalidation_1-mlogloss:0.41433\n",
      "[175]\tvalidation_0-mlogloss:0.33363\tvalidation_1-mlogloss:0.41418\n",
      "[176]\tvalidation_0-mlogloss:0.33316\tvalidation_1-mlogloss:0.41428\n",
      "[177]\tvalidation_0-mlogloss:0.33289\tvalidation_1-mlogloss:0.41410\n",
      "[178]\tvalidation_0-mlogloss:0.33260\tvalidation_1-mlogloss:0.41428\n",
      "[179]\tvalidation_0-mlogloss:0.33216\tvalidation_1-mlogloss:0.41393\n",
      "[180]\tvalidation_0-mlogloss:0.33181\tvalidation_1-mlogloss:0.41382\n",
      "[181]\tvalidation_0-mlogloss:0.33147\tvalidation_1-mlogloss:0.41365\n",
      "[182]\tvalidation_0-mlogloss:0.33118\tvalidation_1-mlogloss:0.41369\n",
      "[183]\tvalidation_0-mlogloss:0.33101\tvalidation_1-mlogloss:0.41369\n",
      "[184]\tvalidation_0-mlogloss:0.33070\tvalidation_1-mlogloss:0.41347\n",
      "[185]\tvalidation_0-mlogloss:0.33016\tvalidation_1-mlogloss:0.41330\n",
      "[186]\tvalidation_0-mlogloss:0.33002\tvalidation_1-mlogloss:0.41331\n",
      "[187]\tvalidation_0-mlogloss:0.32970\tvalidation_1-mlogloss:0.41356\n",
      "[188]\tvalidation_0-mlogloss:0.32921\tvalidation_1-mlogloss:0.41329\n",
      "[189]\tvalidation_0-mlogloss:0.32911\tvalidation_1-mlogloss:0.41336\n",
      "[190]\tvalidation_0-mlogloss:0.32884\tvalidation_1-mlogloss:0.41343\n",
      "[191]\tvalidation_0-mlogloss:0.32861\tvalidation_1-mlogloss:0.41321\n",
      "[192]\tvalidation_0-mlogloss:0.32834\tvalidation_1-mlogloss:0.41333\n",
      "[193]\tvalidation_0-mlogloss:0.32778\tvalidation_1-mlogloss:0.41317\n",
      "[194]\tvalidation_0-mlogloss:0.32752\tvalidation_1-mlogloss:0.41313\n",
      "[195]\tvalidation_0-mlogloss:0.32653\tvalidation_1-mlogloss:0.41268\n",
      "[196]\tvalidation_0-mlogloss:0.32593\tvalidation_1-mlogloss:0.41320\n",
      "[197]\tvalidation_0-mlogloss:0.32552\tvalidation_1-mlogloss:0.41309\n",
      "[198]\tvalidation_0-mlogloss:0.32517\tvalidation_1-mlogloss:0.41308\n",
      "[199]\tvalidation_0-mlogloss:0.32444\tvalidation_1-mlogloss:0.41314\n",
      "[200]\tvalidation_0-mlogloss:0.32419\tvalidation_1-mlogloss:0.41329\n",
      "[201]\tvalidation_0-mlogloss:0.32392\tvalidation_1-mlogloss:0.41338\n",
      "[202]\tvalidation_0-mlogloss:0.32372\tvalidation_1-mlogloss:0.41324\n",
      "[203]\tvalidation_0-mlogloss:0.32324\tvalidation_1-mlogloss:0.41339\n",
      "[204]\tvalidation_0-mlogloss:0.32241\tvalidation_1-mlogloss:0.41395\n",
      "[205]\tvalidation_0-mlogloss:0.32192\tvalidation_1-mlogloss:0.41400\n",
      "[206]\tvalidation_0-mlogloss:0.32166\tvalidation_1-mlogloss:0.41428\n",
      "[207]\tvalidation_0-mlogloss:0.32148\tvalidation_1-mlogloss:0.41436\n",
      "[208]\tvalidation_0-mlogloss:0.32088\tvalidation_1-mlogloss:0.41437\n",
      "[209]\tvalidation_0-mlogloss:0.32033\tvalidation_1-mlogloss:0.41430\n",
      "[210]\tvalidation_0-mlogloss:0.32021\tvalidation_1-mlogloss:0.41433\n",
      "[211]\tvalidation_0-mlogloss:0.31962\tvalidation_1-mlogloss:0.41412\n",
      "[212]\tvalidation_0-mlogloss:0.31932\tvalidation_1-mlogloss:0.41399\n",
      "[213]\tvalidation_0-mlogloss:0.31902\tvalidation_1-mlogloss:0.41367\n",
      "[214]\tvalidation_0-mlogloss:0.31856\tvalidation_1-mlogloss:0.41384\n",
      "[215]\tvalidation_0-mlogloss:0.31829\tvalidation_1-mlogloss:0.41386\n"
     ]
    },
    {
     "data": {
      "text/html": [
       "<style>#sk-container-id-2 {color: black;background-color: white;}#sk-container-id-2 pre{padding: 0;}#sk-container-id-2 div.sk-toggleable {background-color: white;}#sk-container-id-2 label.sk-toggleable__label {cursor: pointer;display: block;width: 100%;margin-bottom: 0;padding: 0.3em;box-sizing: border-box;text-align: center;}#sk-container-id-2 label.sk-toggleable__label-arrow:before {content: \"▸\";float: left;margin-right: 0.25em;color: #696969;}#sk-container-id-2 label.sk-toggleable__label-arrow:hover:before {color: black;}#sk-container-id-2 div.sk-estimator:hover label.sk-toggleable__label-arrow:before {color: black;}#sk-container-id-2 div.sk-toggleable__content {max-height: 0;max-width: 0;overflow: hidden;text-align: left;background-color: #f0f8ff;}#sk-container-id-2 div.sk-toggleable__content pre {margin: 0.2em;color: black;border-radius: 0.25em;background-color: #f0f8ff;}#sk-container-id-2 input.sk-toggleable__control:checked~div.sk-toggleable__content {max-height: 200px;max-width: 100%;overflow: auto;}#sk-container-id-2 input.sk-toggleable__control:checked~label.sk-toggleable__label-arrow:before {content: \"▾\";}#sk-container-id-2 div.sk-estimator input.sk-toggleable__control:checked~label.sk-toggleable__label {background-color: #d4ebff;}#sk-container-id-2 div.sk-label input.sk-toggleable__control:checked~label.sk-toggleable__label {background-color: #d4ebff;}#sk-container-id-2 input.sk-hidden--visually {border: 0;clip: rect(1px 1px 1px 1px);clip: rect(1px, 1px, 1px, 1px);height: 1px;margin: -1px;overflow: hidden;padding: 0;position: absolute;width: 1px;}#sk-container-id-2 div.sk-estimator {font-family: monospace;background-color: #f0f8ff;border: 1px dotted black;border-radius: 0.25em;box-sizing: border-box;margin-bottom: 0.5em;}#sk-container-id-2 div.sk-estimator:hover {background-color: #d4ebff;}#sk-container-id-2 div.sk-parallel-item::after {content: \"\";width: 100%;border-bottom: 1px solid gray;flex-grow: 1;}#sk-container-id-2 div.sk-label:hover label.sk-toggleable__label {background-color: #d4ebff;}#sk-container-id-2 div.sk-serial::before {content: \"\";position: absolute;border-left: 1px solid gray;box-sizing: border-box;top: 0;bottom: 0;left: 50%;z-index: 0;}#sk-container-id-2 div.sk-serial {display: flex;flex-direction: column;align-items: center;background-color: white;padding-right: 0.2em;padding-left: 0.2em;position: relative;}#sk-container-id-2 div.sk-item {position: relative;z-index: 1;}#sk-container-id-2 div.sk-parallel {display: flex;align-items: stretch;justify-content: center;background-color: white;position: relative;}#sk-container-id-2 div.sk-item::before, #sk-container-id-2 div.sk-parallel-item::before {content: \"\";position: absolute;border-left: 1px solid gray;box-sizing: border-box;top: 0;bottom: 0;left: 50%;z-index: -1;}#sk-container-id-2 div.sk-parallel-item {display: flex;flex-direction: column;z-index: 1;position: relative;background-color: white;}#sk-container-id-2 div.sk-parallel-item:first-child::after {align-self: flex-end;width: 50%;}#sk-container-id-2 div.sk-parallel-item:last-child::after {align-self: flex-start;width: 50%;}#sk-container-id-2 div.sk-parallel-item:only-child::after {width: 0;}#sk-container-id-2 div.sk-dashed-wrapped {border: 1px dashed gray;margin: 0 0.4em 0.5em 0.4em;box-sizing: border-box;padding-bottom: 0.4em;background-color: white;}#sk-container-id-2 div.sk-label label {font-family: monospace;font-weight: bold;display: inline-block;line-height: 1.2em;}#sk-container-id-2 div.sk-label-container {text-align: center;}#sk-container-id-2 div.sk-container {/* jupyter's `normalize.less` sets `[hidden] { display: none; }` but bootstrap.min.css set `[hidden] { display: none !important; }` so we also need the `!important` here to be able to override the default hidden behavior on the sphinx rendered scikit-learn.org. See: https://github.com/scikit-learn/scikit-learn/issues/21755 */display: inline-block !important;position: relative;}#sk-container-id-2 div.sk-text-repr-fallback {display: none;}</style><div id=\"sk-container-id-2\" class=\"sk-top-container\"><div class=\"sk-text-repr-fallback\"><pre>XGBClassifier(alpha=2.877378128235514, base_score=None, booster=None,\n",
       "              callbacks=None, colsample_bylevel=None, colsample_bynode=None,\n",
       "              colsample_bytree=0.10415029754015104, device=None,\n",
       "              early_stopping_rounds=None, enable_categorical=False,\n",
       "              eval_metric=None, feature_types=None, gamma=None,\n",
       "              grow_policy=None, importance_type=None,\n",
       "              interaction_constraints=None, lambda=5.120381244878516,\n",
       "              learning_rate=0.24829456977314834, max_bin=None,\n",
       "              max_cat_threshold=None, max_cat_to_onehot=None,\n",
       "              max_delta_step=None, max_depth=5, max_leaves=None,\n",
       "              min_child_weight=0, missing=nan, monotone_constraints=None,\n",
       "              multi_strategy=None, n_estimators=216, n_jobs=None, ...)</pre><b>In a Jupyter environment, please rerun this cell to show the HTML representation or trust the notebook. <br />On GitHub, the HTML representation is unable to render, please try loading this page with nbviewer.org.</b></div><div class=\"sk-container\" hidden><div class=\"sk-item\"><div class=\"sk-estimator sk-toggleable\"><input class=\"sk-toggleable__control sk-hidden--visually\" id=\"sk-estimator-id-2\" type=\"checkbox\" checked><label for=\"sk-estimator-id-2\" class=\"sk-toggleable__label sk-toggleable__label-arrow\">XGBClassifier</label><div class=\"sk-toggleable__content\"><pre>XGBClassifier(alpha=2.877378128235514, base_score=None, booster=None,\n",
       "              callbacks=None, colsample_bylevel=None, colsample_bynode=None,\n",
       "              colsample_bytree=0.10415029754015104, device=None,\n",
       "              early_stopping_rounds=None, enable_categorical=False,\n",
       "              eval_metric=None, feature_types=None, gamma=None,\n",
       "              grow_policy=None, importance_type=None,\n",
       "              interaction_constraints=None, lambda=5.120381244878516,\n",
       "              learning_rate=0.24829456977314834, max_bin=None,\n",
       "              max_cat_threshold=None, max_cat_to_onehot=None,\n",
       "              max_delta_step=None, max_depth=5, max_leaves=None,\n",
       "              min_child_weight=0, missing=nan, monotone_constraints=None,\n",
       "              multi_strategy=None, n_estimators=216, n_jobs=None, ...)</pre></div></div></div></div></div>"
      ],
      "text/plain": [
       "XGBClassifier(alpha=2.877378128235514, base_score=None, booster=None,\n",
       "              callbacks=None, colsample_bylevel=None, colsample_bynode=None,\n",
       "              colsample_bytree=0.10415029754015104, device=None,\n",
       "              early_stopping_rounds=None, enable_categorical=False,\n",
       "              eval_metric=None, feature_types=None, gamma=None,\n",
       "              grow_policy=None, importance_type=None,\n",
       "              interaction_constraints=None, lambda=5.120381244878516,\n",
       "              learning_rate=0.24829456977314834, max_bin=None,\n",
       "              max_cat_threshold=None, max_cat_to_onehot=None,\n",
       "              max_delta_step=None, max_depth=5, max_leaves=None,\n",
       "              min_child_weight=0, missing=nan, monotone_constraints=None,\n",
       "              multi_strategy=None, n_estimators=216, n_jobs=None, ...)"
      ]
     },
     "execution_count": 12,
     "metadata": {},
     "output_type": "execute_result"
    }
   ],
   "source": [
    "\n",
    "p = {'lambda': 5.120381244878516,\n",
    " 'alpha': 2.877378128235514,\n",
    " 'n_estimators': 216,\n",
    " 'max_depth': 5,\n",
    " 'min_child_weight': 0,\n",
    " 'learning_rate': 0.24829456977314834,\n",
    " 'subsample': 0.8,\n",
    " 'colsample_bytree': 0.10415029754015104}\n",
    "\n",
    "X_train, X_test, y_train, y_test = train_test_split(train_data, train_labels, stratify=train_labels,test_size=0.2)\n",
    "\n",
    "model = xgb.XGBClassifier(**p)\n",
    "model.fit(X_train, y_train, eval_set=[(X_train, y_train), (X_test, y_test)], eval_metric='mlogloss')"
   ]
  },
  {
   "cell_type": "code",
   "execution_count": 13,
   "id": "0f938001",
   "metadata": {
    "execution": {
     "iopub.execute_input": "2024-01-16T12:44:38.851569Z",
     "iopub.status.busy": "2024-01-16T12:44:38.850942Z",
     "iopub.status.idle": "2024-01-16T12:44:39.308438Z",
     "shell.execute_reply": "2024-01-16T12:44:39.307467Z"
    },
    "jupyter": {
     "source_hidden": true
    },
    "papermill": {
     "duration": 0.485958,
     "end_time": "2024-01-16T12:44:39.310786",
     "exception": false,
     "start_time": "2024-01-16T12:44:38.824828",
     "status": "completed"
    },
    "tags": []
   },
   "outputs": [
    {
     "data": {
      "text/plain": [
       "<matplotlib.legend.Legend at 0x7c6e4b2ba830>"
      ]
     },
     "execution_count": 13,
     "metadata": {},
     "output_type": "execute_result"
    },
    {
     "data": {
      "image/png": "[encoded data removed]",
      "text/plain": [
       "<Figure size 1000x600 with 1 Axes>"
      ]
     },
     "metadata": {},
     "output_type": "display_data"
    }
   ],
   "source": [
    "train_loss = model.evals_result_[\"validation_0\"][\"mlogloss\"]\n",
    "valid_loss = model.evals_result_[\"validation_1\"][\"mlogloss\"]\n",
    "\n",
    "plt.figure(figsize=(10, 6))\n",
    "plt.plot(range(1, 216 + 1), train_loss, label=\"Training logloss\")\n",
    "plt.plot(range(1, 216 + 1), valid_loss, label=\"Validation logloss\")\n",
    "plt.xlabel(\"Number of Boosting Rounds\")\n",
    "plt.ylabel(\"Root Mean Squared Error (logloss)\")\n",
    "plt.title(\"XGBoost Learning Curve\")\n",
    "plt.legend()"
   ]
  },
  {
   "cell_type": "code",
   "execution_count": 14,
   "id": "0945f528",
   "metadata": {
    "execution": {
     "iopub.execute_input": "2024-01-16T12:44:39.364800Z",
     "iopub.status.busy": "2024-01-16T12:44:39.364050Z",
     "iopub.status.idle": "2024-01-16T12:44:40.111037Z",
     "shell.execute_reply": "2024-01-16T12:44:40.110245Z"
    },
    "jupyter": {
     "source_hidden": true
    },
    "papermill": {
     "duration": 0.776455,
     "end_time": "2024-01-16T12:44:40.113320",
     "exception": false,
     "start_time": "2024-01-16T12:44:39.336865",
     "status": "completed"
    },
    "tags": []
   },
   "outputs": [],
   "source": [
    "{'lambda': 3.590919407267409,\n",
    " 'alpha': 0.6514611987796886,\n",
    " 'max_depth': 11,\n",
    " 'min_child_weight': 6,\n",
    " 'learning_rate': 0.19178901685829666,\n",
    " 'subsample': 0.9,\n",
    " 'colsample_bytree': 0.10532620740742585}\n",
    "\n",
    "test_data = test_df.copy()\n",
    "test_num_cols = test_data.select_dtypes(np.number)\n",
    "test_cat_cols = test_data.select_dtypes('object')\n",
    "\n",
    "test_data = pd.concat([test_num_cols,\n",
    "                              pd.get_dummies(test_cat_cols.iloc[:,:-1], dtype='int32')], axis=1)\n",
    "\n",
    "test_data['AgeOver60'] = (test_data['Age'] > 60).astype('int32')\n",
    "test_data['DaysOver5'] = (test_data['N_Days'] > 5).astype('int32')\n",
    "test_data['PlateletsOver250'] = (test_data['Platelets'] > 250).astype('int32')\n",
    "test_data['BilirubinOver5'] = (test_data['Bilirubin'] > 3).astype('int32')\n",
    "test_data['bico'] = test_data['Bilirubin'] + test_data['Copper']\n",
    "\n",
    "\n",
    "\n",
    "model = xgb.XGBClassifier(**p)\n",
    "model.fit(train_data, train_labels)\n",
    "\n",
    "make_submission(model, test_data)"
   ]
  },
  {
   "cell_type": "markdown",
   "id": "8d0fca28",
   "metadata": {
    "papermill": {
     "duration": 0.025939,
     "end_time": "2024-01-16T12:44:40.165408",
     "exception": false,
     "start_time": "2024-01-16T12:44:40.139469",
     "status": "completed"
    },
    "tags": []
   },
   "source": [
    "# Age binning model"
   ]
  },
  {
   "cell_type": "code",
   "execution_count": 15,
   "id": "779c6391",
   "metadata": {
    "execution": {
     "iopub.execute_input": "2024-01-16T12:44:40.218909Z",
     "iopub.status.busy": "2024-01-16T12:44:40.218045Z",
     "iopub.status.idle": "2024-01-16T12:44:42.979262Z",
     "shell.execute_reply": "2024-01-16T12:44:42.978428Z"
    },
    "papermill": {
     "duration": 2.790521,
     "end_time": "2024-01-16T12:44:42.981694",
     "exception": false,
     "start_time": "2024-01-16T12:44:40.191173",
     "status": "completed"
    },
    "tags": []
   },
   "outputs": [
    {
     "data": {
      "text/plain": [
       "0.5137563987928991"
      ]
     },
     "execution_count": 15,
     "metadata": {},
     "output_type": "execute_result"
    }
   ],
   "source": [
    "train_data = train_df.copy()\n",
    "train_labels = train_data['Status'].map({'C':0, 'CL':1, 'D':2})\n",
    "train_data.drop('Status', axis=1, inplace=True)\n",
    "\n",
    "train_num_cols = train_data.select_dtypes(np.number)\n",
    "train_cat_cols = train_data.select_dtypes('object')\n",
    "bin_cols = pd.get_dummies(pd.cut(train_num_cols['Age'], bins=5, labels=['1','2','3','4','5']), dtype='int32')\n",
    "\n",
    "train_data = pd.concat([train_num_cols, bin_cols, pd.get_dummies(train_cat_cols, dtype='int32')], axis=1)\n",
    "\n",
    "get_cv_score(train_data, train_labels).mean()\n",
    "\n",
    "# train_data\n"
   ]
  }
 ],
 "metadata": {
  "kaggle": {
   "accelerator": "gpu",
   "dataSources": [
    {
     "databundleVersionId": 7000181,
     "sourceId": 60893,
     "sourceType": "competition"
    }
   ],
   "dockerImageVersionId": 30626,
   "isGpuEnabled": true,
   "isInternetEnabled": true,
   "language": "python",
   "sourceType": "notebook"
  },
  "kernelspec": {
   "display_name": "Python 3",
   "language": "python",
   "name": "python3"
  },
  "language_info": {
   "codemirror_mode": {
    "name": "ipython",
    "version": 3
   },
   "file_extension": ".py",
   "mimetype": "text/x-python",
   "name": "python",
   "nbconvert_exporter": "python",
   "pygments_lexer": "ipython3",
   "version": "3.10.12"
  },
  "papermill": {
   "default_parameters": {},
   "duration": 26.400142,
   "end_time": "2024-01-16T12:44:43.627659",
   "environment_variables": {},
   "exception": null,
   "input_path": "__notebook__.ipynb",
   "output_path": "__notebook__.ipynb",
   "parameters": {},
   "start_time": "2024-01-16T12:44:17.227517",
   "version": "2.4.0"
  }
 },
 "nbformat": 4,
 "nbformat_minor": 5
}
