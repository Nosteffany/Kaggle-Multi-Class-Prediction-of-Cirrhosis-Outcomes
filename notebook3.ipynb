{
 "cells": [
  {
   "cell_type": "code",
   "execution_count": 1,
   "id": "f20d0f7a",
   "metadata": {
    "_cell_guid": "b1076dfc-b9ad-4769-8c92-a6c4dae69d19",
    "_uuid": "8f2839f25d086af736a60e9eeb907d3b93b6e0e5",
    "execution": {
     "iopub.execute_input": "2024-01-16T13:14:21.807621Z",
     "iopub.status.busy": "2024-01-16T13:14:21.806429Z",
     "iopub.status.idle": "2024-01-16T13:14:22.288565Z",
     "shell.execute_reply": "2024-01-16T13:14:22.287306Z"
    },
    "papermill": {
     "duration": 0.492683,
     "end_time": "2024-01-16T13:14:22.291286",
     "exception": false,
     "start_time": "2024-01-16T13:14:21.798603",
     "status": "completed"
    },
    "tags": []
   },
   "outputs": [
    {
     "name": "stdout",
     "output_type": "stream",
     "text": [
      "/kaggle/input/playground-series-s3e26/sample_submission.csv\n",
      "/kaggle/input/playground-series-s3e26/train.csv\n",
      "/kaggle/input/playground-series-s3e26/test.csv\n"
     ]
    }
   ],
   "source": [
    "# This Python 3 environment comes with many helpful analytics libraries installed\n",
    "# It is defined by the kaggle/python Docker image: https://github.com/kaggle/docker-python\n",
    "# For example, here's several helpful packages to load\n",
    "\n",
    "import numpy as np # linear algebra\n",
    "import pandas as pd # data processing, CSV file I/O (e.g. pd.read_csv)\n",
    "\n",
    "# Input data files are available in the read-only \"../input/\" directory\n",
    "# For example, running this (by clicking run or pressing Shift+Enter) will list all files under the input directory\n",
    "\n",
    "import os\n",
    "for dirname, _, filenames in os.walk('/kaggle/input'):\n",
    "    for filename in filenames:\n",
    "        print(os.path.join(dirname, filename))\n",
    "\n",
    "# You can write up to 20GB to the current directory (/kaggle/working/) that gets preserved as output when you create a version using \"Save & Run All\" \n",
    "# You can also write temporary files to /kaggle/temp/, but they won't be saved outside of the current session"
   ]
  },
  {
   "cell_type": "code",
   "execution_count": 2,
   "id": "1a606990",
   "metadata": {
    "execution": {
     "iopub.execute_input": "2024-01-16T13:14:22.304616Z",
     "iopub.status.busy": "2024-01-16T13:14:22.303641Z",
     "iopub.status.idle": "2024-01-16T13:14:22.406913Z",
     "shell.execute_reply": "2024-01-16T13:14:22.405889Z"
    },
    "papermill": {
     "duration": 0.112821,
     "end_time": "2024-01-16T13:14:22.409749",
     "exception": false,
     "start_time": "2024-01-16T13:14:22.296928",
     "status": "completed"
    },
    "tags": []
   },
   "outputs": [],
   "source": [
    "train_df = pd.read_csv(\"/kaggle/input/playground-series-s3e26/train.csv\", index_col='id')\n",
    "test_df = pd.read_csv(\"/kaggle/input/playground-series-s3e26/test.csv\", index_col='id')"
   ]
  },
  {
   "cell_type": "code",
   "execution_count": 3,
   "id": "6b04f481",
   "metadata": {
    "execution": {
     "iopub.execute_input": "2024-01-16T13:14:22.422834Z",
     "iopub.status.busy": "2024-01-16T13:14:22.421847Z",
     "iopub.status.idle": "2024-01-16T13:14:25.639660Z",
     "shell.execute_reply": "2024-01-16T13:14:25.638488Z"
    },
    "papermill": {
     "duration": 3.227635,
     "end_time": "2024-01-16T13:14:25.642757",
     "exception": false,
     "start_time": "2024-01-16T13:14:22.415122",
     "status": "completed"
    },
    "tags": []
   },
   "outputs": [],
   "source": [
    "import matplotlib.pyplot as plt\n",
    "import seaborn as sns\n",
    "\n",
    "from sklearn.model_selection import cross_val_score, StratifiedKFold, train_test_split\n",
    "from sklearn.preprocessing import PolynomialFeatures\n",
    "from sklearn.metrics import log_loss, make_scorer\n",
    "from sklearn.model_selection import GridSearchCV\n",
    "import xgboost as xgb\n",
    "import optuna\n",
    "from optuna.samplers import TPESampler"
   ]
  },
  {
   "cell_type": "code",
   "execution_count": 4,
   "id": "9c50e496",
   "metadata": {
    "execution": {
     "iopub.execute_input": "2024-01-16T13:14:25.655934Z",
     "iopub.status.busy": "2024-01-16T13:14:25.654975Z",
     "iopub.status.idle": "2024-01-16T13:14:25.663679Z",
     "shell.execute_reply": "2024-01-16T13:14:25.662417Z"
    },
    "papermill": {
     "duration": 0.018049,
     "end_time": "2024-01-16T13:14:25.666100",
     "exception": false,
     "start_time": "2024-01-16T13:14:25.648051",
     "status": "completed"
    },
    "tags": []
   },
   "outputs": [],
   "source": [
    "def days_to_years(df, columns):\n",
    "    return df[columns].apply(lambda x: x / 365.25)\n",
    "\n",
    "\n",
    "def make_submission(model, X):\n",
    "#     test_df[['N_Days', 'Age']] = days_to_years(test_df, ['N_Days', 'Age'])\n",
    "#     test_num_features = test_df.select_dtypes(np.number)\n",
    "#     test_cat_features = test_df.select_dtypes('object')\n",
    "\n",
    "#     encoded_features = pd.concat([test_num_features,\n",
    "#                                   pd.get_dummies(test_cat_features, dtype='int32')], axis=1)\n",
    "    y_pred = model.predict_proba(X)\n",
    "    y_pred = pd.DataFrame(y_pred)\n",
    "    y_pred.columns = ['Status_C', 'Status_CL','Status_D']\n",
    "\n",
    "    submission_df = pd.DataFrame()\n",
    "    submission_df = y_pred  \n",
    "    submission_df['id'] = X.index\n",
    "    submission_df['id'] = submission_df['id'].apply(lambda x : int(x))\n",
    "    return submission_df\n",
    "#     submission_df.to_csv('submission.csv', index= False)"
   ]
  },
  {
   "cell_type": "code",
   "execution_count": 5,
   "id": "26390a7e",
   "metadata": {
    "execution": {
     "iopub.execute_input": "2024-01-16T13:14:25.678118Z",
     "iopub.status.busy": "2024-01-16T13:14:25.677714Z",
     "iopub.status.idle": "2024-01-16T13:14:25.695225Z",
     "shell.execute_reply": "2024-01-16T13:14:25.694108Z"
    },
    "papermill": {
     "duration": 0.026445,
     "end_time": "2024-01-16T13:14:25.697810",
     "exception": false,
     "start_time": "2024-01-16T13:14:25.671365",
     "status": "completed"
    },
    "tags": []
   },
   "outputs": [],
   "source": [
    "train_df[['N_Days', 'Age']] = days_to_years(train_df, ['N_Days', 'Age'])\n",
    "test_df[['N_Days', 'Age']] = days_to_years(test_df, ['N_Days', 'Age'])"
   ]
  },
  {
   "cell_type": "code",
   "execution_count": 6,
   "id": "cd2f93d7",
   "metadata": {
    "execution": {
     "iopub.execute_input": "2024-01-16T13:14:25.710096Z",
     "iopub.status.busy": "2024-01-16T13:14:25.709643Z",
     "iopub.status.idle": "2024-01-16T13:14:25.752453Z",
     "shell.execute_reply": "2024-01-16T13:14:25.751160Z"
    },
    "papermill": {
     "duration": 0.052598,
     "end_time": "2024-01-16T13:14:25.755630",
     "exception": false,
     "start_time": "2024-01-16T13:14:25.703032",
     "status": "completed"
    },
    "tags": []
   },
   "outputs": [],
   "source": [
    "train_data = train_df.copy()\n",
    "train_labels = train_data['Status'].map({'C':0, 'CL':1, 'D':2})\n",
    "train_data = train_data.drop('Status', axis=1)\n",
    "\n",
    "train_num_cols = train_data.select_dtypes(np.number)\n",
    "train_cat_cols = train_data.select_dtypes('object')\n",
    "\n",
    "train_data = pd.concat([train_num_cols, pd.get_dummies(train_cat_cols, dtype='int32'), train_labels], axis=1)\n",
    "\n",
    "\n",
    "\n",
    "test_data = test_df.copy()\n",
    "\n",
    "test_num_cols = test_data.select_dtypes(np.number)\n",
    "test_cat_cols = test_data.select_dtypes('object')\n",
    "\n",
    "test_data = pd.concat([test_num_cols, pd.get_dummies(test_cat_cols, dtype='int32')], axis=1)\n",
    "\n"
   ]
  },
  {
   "cell_type": "code",
   "execution_count": 7,
   "id": "2e90b7dc",
   "metadata": {
    "execution": {
     "iopub.execute_input": "2024-01-16T13:14:25.768325Z",
     "iopub.status.busy": "2024-01-16T13:14:25.767852Z",
     "iopub.status.idle": "2024-01-16T13:14:25.773287Z",
     "shell.execute_reply": "2024-01-16T13:14:25.772027Z"
    },
    "papermill": {
     "duration": 0.014811,
     "end_time": "2024-01-16T13:14:25.775727",
     "exception": false,
     "start_time": "2024-01-16T13:14:25.760916",
     "status": "completed"
    },
    "tags": []
   },
   "outputs": [],
   "source": [
    "# %pip install h2o"
   ]
  },
  {
   "cell_type": "code",
   "execution_count": 8,
   "id": "bc3b0447",
   "metadata": {
    "execution": {
     "iopub.execute_input": "2024-01-16T13:14:25.788046Z",
     "iopub.status.busy": "2024-01-16T13:14:25.787610Z",
     "iopub.status.idle": "2024-01-16T13:14:37.524296Z",
     "shell.execute_reply": "2024-01-16T13:14:37.522836Z"
    },
    "papermill": {
     "duration": 11.746788,
     "end_time": "2024-01-16T13:14:37.527762",
     "exception": false,
     "start_time": "2024-01-16T13:14:25.780974",
     "status": "completed"
    },
    "tags": []
   },
   "outputs": [
    {
     "name": "stdout",
     "output_type": "stream",
     "text": [
      "Checking whether there is an H2O instance running at http://localhost:54321..... not found.\n",
      "Attempting to start a local H2O server...\n",
      "  Java Version: openjdk version \"11.0.21\" 2023-10-17; OpenJDK Runtime Environment (build 11.0.21+9-post-Ubuntu-0ubuntu120.04); OpenJDK 64-Bit Server VM (build 11.0.21+9-post-Ubuntu-0ubuntu120.04, mixed mode, sharing)\n",
      "  Starting server from /opt/conda/lib/python3.10/site-packages/h2o/backend/bin/h2o.jar\n",
      "  Ice root: /tmp/tmp8vic3f5g\n",
      "  JVM stdout: /tmp/tmp8vic3f5g/h2o_unknownUser_started_from_python.out\n",
      "  JVM stderr: /tmp/tmp8vic3f5g/h2o_unknownUser_started_from_python.err\n",
      "  Server is running at http://127.0.0.1:54321\n",
      "Connecting to H2O server at http://127.0.0.1:54321 ... successful.\n"
     ]
    },
    {
     "data": {
      "text/html": [
       "\n",
       "<style>\n",
       "\n",
       "#h2o-table-1.h2o-container {\n",
       "  overflow-x: auto;\n",
       "}\n",
       "#h2o-table-1 .h2o-table {\n",
       "  /* width: 100%; */\n",
       "  margin-top: 1em;\n",
       "  margin-bottom: 1em;\n",
       "}\n",
       "#h2o-table-1 .h2o-table caption {\n",
       "  white-space: nowrap;\n",
       "  caption-side: top;\n",
       "  text-align: left;\n",
       "  /* margin-left: 1em; */\n",
       "  margin: 0;\n",
       "  font-size: larger;\n",
       "}\n",
       "#h2o-table-1 .h2o-table thead {\n",
       "  white-space: nowrap; \n",
       "  position: sticky;\n",
       "  top: 0;\n",
       "  box-shadow: 0 -1px inset;\n",
       "}\n",
       "#h2o-table-1 .h2o-table tbody {\n",
       "  overflow: auto;\n",
       "}\n",
       "#h2o-table-1 .h2o-table th,\n",
       "#h2o-table-1 .h2o-table td {\n",
       "  text-align: right;\n",
       "  /* border: 1px solid; */\n",
       "}\n",
       "#h2o-table-1 .h2o-table tr:nth-child(even) {\n",
       "  /* background: #F5F5F5 */\n",
       "}\n",
       "\n",
       "</style>      \n",
       "<div id=\"h2o-table-1\" class=\"h2o-container\">\n",
       "  <table class=\"h2o-table\">\n",
       "    <caption></caption>\n",
       "    <thead></thead>\n",
       "    <tbody><tr><td>H2O_cluster_uptime:</td>\n",
       "<td>03 secs</td></tr>\n",
       "<tr><td>H2O_cluster_timezone:</td>\n",
       "<td>Etc/UTC</td></tr>\n",
       "<tr><td>H2O_data_parsing_timezone:</td>\n",
       "<td>UTC</td></tr>\n",
       "<tr><td>H2O_cluster_version:</td>\n",
       "<td>3.44.0.3</td></tr>\n",
       "<tr><td>H2O_cluster_version_age:</td>\n",
       "<td>26 days</td></tr>\n",
       "<tr><td>H2O_cluster_name:</td>\n",
       "<td>H2O_from_python_unknownUser_j2a3db</td></tr>\n",
       "<tr><td>H2O_cluster_total_nodes:</td>\n",
       "<td>1</td></tr>\n",
       "<tr><td>H2O_cluster_free_memory:</td>\n",
       "<td>7.500 Gb</td></tr>\n",
       "<tr><td>H2O_cluster_total_cores:</td>\n",
       "<td>4</td></tr>\n",
       "<tr><td>H2O_cluster_allowed_cores:</td>\n",
       "<td>4</td></tr>\n",
       "<tr><td>H2O_cluster_status:</td>\n",
       "<td>locked, healthy</td></tr>\n",
       "<tr><td>H2O_connection_url:</td>\n",
       "<td>http://127.0.0.1:54321</td></tr>\n",
       "<tr><td>H2O_connection_proxy:</td>\n",
       "<td>{\"http\": null, \"https\": null}</td></tr>\n",
       "<tr><td>H2O_internal_security:</td>\n",
       "<td>False</td></tr>\n",
       "<tr><td>Python_version:</td>\n",
       "<td>3.10.12 final</td></tr></tbody>\n",
       "  </table>\n",
       "</div>\n"
      ],
      "text/plain": [
       "--------------------------  ----------------------------------\n",
       "H2O_cluster_uptime:         03 secs\n",
       "H2O_cluster_timezone:       Etc/UTC\n",
       "H2O_data_parsing_timezone:  UTC\n",
       "H2O_cluster_version:        3.44.0.3\n",
       "H2O_cluster_version_age:    26 days\n",
       "H2O_cluster_name:           H2O_from_python_unknownUser_j2a3db\n",
       "H2O_cluster_total_nodes:    1\n",
       "H2O_cluster_free_memory:    7.500 Gb\n",
       "H2O_cluster_total_cores:    4\n",
       "H2O_cluster_allowed_cores:  4\n",
       "H2O_cluster_status:         locked, healthy\n",
       "H2O_connection_url:         http://127.0.0.1:54321\n",
       "H2O_connection_proxy:       {\"http\": null, \"https\": null}\n",
       "H2O_internal_security:      False\n",
       "Python_version:             3.10.12 final\n",
       "--------------------------  ----------------------------------"
      ]
     },
     "metadata": {},
     "output_type": "display_data"
    },
    {
     "name": "stdout",
     "output_type": "stream",
     "text": [
      "Parse progress: |████████████████████████████████████████████████████████████████| (done) 100%\n"
     ]
    }
   ],
   "source": [
    "import h2o\n",
    "from h2o.automl import H2OAutoML\n",
    "\n",
    "h2o.init()\n",
    "train = h2o.H2OFrame(train_data)\n",
    "# test = h2o.H2OFrame(test_data)\n",
    "\n",
    "label ='Status'\n",
    "columns = train.columns\n",
    "columns.remove(label)\n",
    "\n",
    "aml = H2OAutoML(max_models=30, max_runtime_secs=1000)\n",
    "train[label] = train[label].asfactor()\n",
    "# aml.train(x=columns, y=label, training_frame=train)\n",
    "\n",
    "# model = aml.leader\n",
    "# preds = model.predict(test)\n",
    "# preds_df = h2o.as_list(preds)"
   ]
  },
  {
   "cell_type": "code",
   "execution_count": 9,
   "id": "67405c88",
   "metadata": {
    "execution": {
     "iopub.execute_input": "2024-01-16T13:14:37.549820Z",
     "iopub.status.busy": "2024-01-16T13:14:37.549172Z",
     "iopub.status.idle": "2024-01-16T13:14:37.556463Z",
     "shell.execute_reply": "2024-01-16T13:14:37.555190Z"
    },
    "papermill": {
     "duration": 0.021985,
     "end_time": "2024-01-16T13:14:37.559508",
     "exception": false,
     "start_time": "2024-01-16T13:14:37.537523",
     "status": "completed"
    },
    "tags": []
   },
   "outputs": [],
   "source": [
    "# test_data = test_df.copy()\n",
    "\n",
    "# test_num_cols = test_data.select_dtypes(np.number)\n",
    "# test_cat_cols = test_data.select_dtypes('object')\n",
    "\n",
    "# test_data = pd.concat([test_num_cols, pd.get_dummies(test_cat_cols, dtype='int32')], axis=1)\n",
    "\n",
    "\n",
    "# test_data\n",
    "# model = xgb.XGBClassifier()\n",
    "# model.fit(train_data, train_labels)\n",
    "# print(preds.head())\n",
    "# make_submission(model, test_data)\n",
    "\n",
    "\n",
    "\n",
    "# preds_df = preds_df.drop('predict', axis=1)\n",
    "# preds_df['id'] = test_df.index\n",
    "# preds_df.columns = ['Status_C', 'Status_CL','Status_D', 'id']\n",
    "\n",
    "\n"
   ]
  },
  {
   "cell_type": "code",
   "execution_count": 10,
   "id": "dc1c3db9",
   "metadata": {
    "execution": {
     "iopub.execute_input": "2024-01-16T13:14:37.581298Z",
     "iopub.status.busy": "2024-01-16T13:14:37.580212Z",
     "iopub.status.idle": "2024-01-16T13:14:37.585323Z",
     "shell.execute_reply": "2024-01-16T13:14:37.584487Z"
    },
    "papermill": {
     "duration": 0.019277,
     "end_time": "2024-01-16T13:14:37.588244",
     "exception": false,
     "start_time": "2024-01-16T13:14:37.568967",
     "status": "completed"
    },
    "tags": []
   },
   "outputs": [],
   "source": [
    "# preds_df.to_csv('submission.csv', index= False)"
   ]
  },
  {
   "cell_type": "code",
   "execution_count": 11,
   "id": "d3c43dc0",
   "metadata": {
    "execution": {
     "iopub.execute_input": "2024-01-16T13:14:37.608478Z",
     "iopub.status.busy": "2024-01-16T13:14:37.607456Z",
     "iopub.status.idle": "2024-01-16T13:14:37.612913Z",
     "shell.execute_reply": "2024-01-16T13:14:37.612043Z"
    },
    "papermill": {
     "duration": 0.017754,
     "end_time": "2024-01-16T13:14:37.615351",
     "exception": false,
     "start_time": "2024-01-16T13:14:37.597597",
     "status": "completed"
    },
    "tags": []
   },
   "outputs": [],
   "source": [
    "# h2o.explain(model, train)"
   ]
  },
  {
   "cell_type": "code",
   "execution_count": null,
   "id": "c004d2a5",
   "metadata": {
    "papermill": {
     "duration": 0.006284,
     "end_time": "2024-01-16T13:14:37.628392",
     "exception": false,
     "start_time": "2024-01-16T13:14:37.622108",
     "status": "completed"
    },
    "tags": []
   },
   "outputs": [],
   "source": []
  }
 ],
 "metadata": {
  "kaggle": {
   "accelerator": "none",
   "dataSources": [
    {
     "databundleVersionId": 7000181,
     "sourceId": 60893,
     "sourceType": "competition"
    }
   ],
   "dockerImageVersionId": 30635,
   "isGpuEnabled": false,
   "isInternetEnabled": true,
   "language": "python",
   "sourceType": "notebook"
  },
  "kernelspec": {
   "display_name": "Python 3",
   "language": "python",
   "name": "python3"
  },
  "language_info": {
   "codemirror_mode": {
    "name": "ipython",
    "version": 3
   },
   "file_extension": ".py",
   "mimetype": "text/x-python",
   "name": "python",
   "nbconvert_exporter": "python",
   "pygments_lexer": "ipython3",
   "version": "3.10.12"
  },
  "papermill": {
   "default_parameters": {},
   "duration": 20.840827,
   "end_time": "2024-01-16T13:14:39.060903",
   "environment_variables": {},
   "exception": null,
   "input_path": "__notebook__.ipynb",
   "output_path": "__notebook__.ipynb",
   "parameters": {},
   "start_time": "2024-01-16T13:14:18.220076",
   "version": "2.4.0"
  }
 },
 "nbformat": 4,
 "nbformat_minor": 5
}
